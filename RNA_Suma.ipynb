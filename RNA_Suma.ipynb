{
  "nbformat": 4,
  "nbformat_minor": 0,
  "metadata": {
    "colab": {
      "name": "RNA_Suma.ipynb",
      "provenance": []
    },
    "kernelspec": {
      "name": "python3",
      "display_name": "Python 3"
    },
    "language_info": {
      "name": "python"
    }
  },
  "cells": [
    {
      "cell_type": "markdown",
      "metadata": {
        "id": "hObE3lxYFtoX"
      },
      "source": [
        "# **Primera I.A.**\n",
        "\n",
        "Enseñemos a Sumar\n",
        "\n",
        "Autor: M.B.A. Ing. Dipl.  Luis Vidal V. (lvidal@uach.cl)\n",
        "\n",
        "Fecha: 27 de agosto de 2021\n",
        "\n"
      ]
    },
    {
      "cell_type": "markdown",
      "metadata": {
        "id": "sJlrEPpMGSRB"
      },
      "source": [
        "# Importar librerias"
      ]
    },
    {
      "cell_type": "code",
      "metadata": {
        "id": "jJ2glfnXD3bX"
      },
      "source": [
        "import pandas as pd\n",
        "import numpy as np"
      ],
      "execution_count": 1,
      "outputs": []
    },
    {
      "cell_type": "markdown",
      "metadata": {
        "id": "A2yqBbzsGY3e"
      },
      "source": [
        "# Carga de datos"
      ]
    },
    {
      "cell_type": "code",
      "metadata": {
        "colab": {
          "base_uri": "https://localhost:8080/",
          "height": 562
        },
        "id": "vt2rE-MLGcrs",
        "outputId": "8f22fe8d-de32-4a44-82fe-272606953d83"
      },
      "source": [
        "# Se emple la función wget que permita bajar al espacio de trabajo los datos para análisis\n",
        "!wget --no-check-certificate --content-disposition https://raw.githubusercontent.com/luisvidalvidal/cursoIA/main/suma.csv\n",
        "\n",
        "# Ustilizando pandas, se carga archivo en memoria como dataframe\n",
        "df = pd.read_csv(\"suma.csv\")\n",
        "df.head(10)"
      ],
      "execution_count": 2,
      "outputs": [
        {
          "output_type": "stream",
          "name": "stdout",
          "text": [
            "--2021-10-20 01:14:57--  https://raw.githubusercontent.com/luisvidalvidal/cursoIA/main/suma.csv\n",
            "Resolving raw.githubusercontent.com (raw.githubusercontent.com)... 185.199.108.133, 185.199.109.133, 185.199.110.133, ...\n",
            "Connecting to raw.githubusercontent.com (raw.githubusercontent.com)|185.199.108.133|:443... connected.\n",
            "HTTP request sent, awaiting response... 200 OK\n",
            "Length: 20530 (20K) [text/plain]\n",
            "Saving to: ‘suma.csv’\n",
            "\n",
            "suma.csv            100%[===================>]  20.05K  --.-KB/s    in 0s      \n",
            "\n",
            "2021-10-20 01:14:58 (84.7 MB/s) - ‘suma.csv’ saved [20530/20530]\n",
            "\n"
          ]
        },
        {
          "output_type": "execute_result",
          "data": {
            "text/html": [
              "<div>\n",
              "<style scoped>\n",
              "    .dataframe tbody tr th:only-of-type {\n",
              "        vertical-align: middle;\n",
              "    }\n",
              "\n",
              "    .dataframe tbody tr th {\n",
              "        vertical-align: top;\n",
              "    }\n",
              "\n",
              "    .dataframe thead th {\n",
              "        text-align: right;\n",
              "    }\n",
              "</style>\n",
              "<table border=\"1\" class=\"dataframe\">\n",
              "  <thead>\n",
              "    <tr style=\"text-align: right;\">\n",
              "      <th></th>\n",
              "      <th>Y</th>\n",
              "      <th>X1</th>\n",
              "      <th>X2</th>\n",
              "    </tr>\n",
              "  </thead>\n",
              "  <tbody>\n",
              "    <tr>\n",
              "      <th>0</th>\n",
              "      <td>10</td>\n",
              "      <td>5</td>\n",
              "      <td>5</td>\n",
              "    </tr>\n",
              "    <tr>\n",
              "      <th>1</th>\n",
              "      <td>16057</td>\n",
              "      <td>6528</td>\n",
              "      <td>9529</td>\n",
              "    </tr>\n",
              "    <tr>\n",
              "      <th>2</th>\n",
              "      <td>6940</td>\n",
              "      <td>2988</td>\n",
              "      <td>3952</td>\n",
              "    </tr>\n",
              "    <tr>\n",
              "      <th>3</th>\n",
              "      <td>1869</td>\n",
              "      <td>266</td>\n",
              "      <td>1603</td>\n",
              "    </tr>\n",
              "    <tr>\n",
              "      <th>4</th>\n",
              "      <td>1037</td>\n",
              "      <td>594</td>\n",
              "      <td>443</td>\n",
              "    </tr>\n",
              "    <tr>\n",
              "      <th>5</th>\n",
              "      <td>13837</td>\n",
              "      <td>8881</td>\n",
              "      <td>4956</td>\n",
              "    </tr>\n",
              "    <tr>\n",
              "      <th>6</th>\n",
              "      <td>9360</td>\n",
              "      <td>9059</td>\n",
              "      <td>301</td>\n",
              "    </tr>\n",
              "    <tr>\n",
              "      <th>7</th>\n",
              "      <td>11445</td>\n",
              "      <td>8003</td>\n",
              "      <td>3442</td>\n",
              "    </tr>\n",
              "    <tr>\n",
              "      <th>8</th>\n",
              "      <td>10067</td>\n",
              "      <td>3593</td>\n",
              "      <td>6474</td>\n",
              "    </tr>\n",
              "    <tr>\n",
              "      <th>9</th>\n",
              "      <td>14906</td>\n",
              "      <td>7550</td>\n",
              "      <td>7356</td>\n",
              "    </tr>\n",
              "  </tbody>\n",
              "</table>\n",
              "</div>"
            ],
            "text/plain": [
              "       Y    X1    X2\n",
              "0     10     5     5\n",
              "1  16057  6528  9529\n",
              "2   6940  2988  3952\n",
              "3   1869   266  1603\n",
              "4   1037   594   443\n",
              "5  13837  8881  4956\n",
              "6   9360  9059   301\n",
              "7  11445  8003  3442\n",
              "8  10067  3593  6474\n",
              "9  14906  7550  7356"
            ]
          },
          "metadata": {},
          "execution_count": 2
        }
      ]
    },
    {
      "cell_type": "code",
      "metadata": {
        "id": "U7AFgUJXERAe"
      },
      "source": [
        "df = pd.read_csv('suma.csv')"
      ],
      "execution_count": 3,
      "outputs": []
    },
    {
      "cell_type": "code",
      "metadata": {
        "id": "gS1uZmVYEdxy",
        "colab": {
          "base_uri": "https://localhost:8080/"
        },
        "outputId": "b5bdd92a-86d9-4c74-deda-177b4e09b53d"
      },
      "source": [
        "#Muestra columnas\n",
        "print(df.columns)"
      ],
      "execution_count": 4,
      "outputs": [
        {
          "output_type": "stream",
          "name": "stdout",
          "text": [
            "Index(['Y', 'X1', 'X2'], dtype='object')\n"
          ]
        }
      ]
    },
    {
      "cell_type": "code",
      "metadata": {
        "id": "IM5enp02Ep5J"
      },
      "source": [
        "#Creamos un dataset desde el archivo que se descargo.\n",
        "dataset = df.values"
      ],
      "execution_count": 5,
      "outputs": []
    },
    {
      "cell_type": "code",
      "metadata": {
        "id": "uLw-2HbXEtjg",
        "colab": {
          "base_uri": "https://localhost:8080/"
        },
        "outputId": "ad64362c-f43c-4015-9e6e-a5f79adbdac5"
      },
      "source": [
        "print(dataset)"
      ],
      "execution_count": 6,
      "outputs": [
        {
          "output_type": "stream",
          "name": "stdout",
          "text": [
            "[[   10     5     5]\n",
            " [16057  6528  9529]\n",
            " [ 6940  2988  3952]\n",
            " ...\n",
            " [11842  9240  2602]\n",
            " [ 4874  4758   116]\n",
            " [ 4950  4472   478]]\n"
          ]
        }
      ]
    },
    {
      "cell_type": "code",
      "metadata": {
        "id": "yd8Mss6YEyC2"
      },
      "source": [
        "#Separamos los datos Y variable objetivo, X variables x1 y x2\n",
        "Y=dataset[:,0]\n",
        "X=dataset[:,1:3]"
      ],
      "execution_count": 7,
      "outputs": []
    },
    {
      "cell_type": "code",
      "metadata": {
        "id": "03DNF0-8E7eg"
      },
      "source": [
        "#Usar este código para dejar los tipos de datos como float, sugerido.\n",
        "X=np.asarray(X).astype(np.float32)\n",
        "Y=np.asarray(Y).astype(np.float32)"
      ],
      "execution_count": 8,
      "outputs": []
    },
    {
      "cell_type": "code",
      "metadata": {
        "id": "QGVMn8NkFJPs",
        "colab": {
          "base_uri": "https://localhost:8080/"
        },
        "outputId": "e4715796-241d-4114-be87-56dbd940867a"
      },
      "source": [
        "print(X)\n",
        "print(Y)"
      ],
      "execution_count": 9,
      "outputs": [
        {
          "output_type": "stream",
          "name": "stdout",
          "text": [
            "[[5.000e+00 5.000e+00]\n",
            " [6.528e+03 9.529e+03]\n",
            " [2.988e+03 3.952e+03]\n",
            " ...\n",
            " [9.240e+03 2.602e+03]\n",
            " [4.758e+03 1.160e+02]\n",
            " [4.472e+03 4.780e+02]]\n",
            "[1.0000e+01 1.6057e+04 6.9400e+03 ... 1.1842e+04 4.8740e+03 4.9500e+03]\n"
          ]
        }
      ]
    },
    {
      "cell_type": "markdown",
      "metadata": {
        "id": "ssLrsKk3OgDD"
      },
      "source": [
        "# Creación del Cerebro de nuestra la I.A."
      ]
    },
    {
      "cell_type": "code",
      "metadata": {
        "id": "qvuszICbFKzW"
      },
      "source": [
        "import tensorflow as tf\n",
        "from tensorflow import keras\n",
        "from tensorflow.keras import layers"
      ],
      "execution_count": 10,
      "outputs": []
    },
    {
      "cell_type": "code",
      "metadata": {
        "id": "dlnMkVyyFOan"
      },
      "source": [
        "#Cerebro\n",
        "def build_model():\n",
        "  model = keras.Sequential([\n",
        "    layers.Dense(16, activation='relu', input_shape=[2]),   #input_shape  se ingresa cantida de Xi\n",
        "    layers.Dense(32, activation='relu'),\n",
        "    layers.Dense(18, activation='relu'),\n",
        "    layers.Dense(1)\n",
        "  ])\n",
        "  optimizer = tf.keras.optimizers.RMSprop(learning_rate=0.0001)\n",
        "  model.compile(loss='mse',\n",
        "                optimizer=optimizer,\n",
        "                metrics=['mae', 'mse'])\n",
        "  return model"
      ],
      "execution_count": 11,
      "outputs": []
    },
    {
      "cell_type": "code",
      "metadata": {
        "id": "0Cg-wD-qFZTf"
      },
      "source": [
        "#Se crea el modelo Cerebro (modelo de redes neuronales)\n",
        "model = build_model()"
      ],
      "execution_count": 12,
      "outputs": []
    },
    {
      "cell_type": "markdown",
      "metadata": {
        "id": "BsNcp4enPM-z"
      },
      "source": [
        "# Entrenamiento de la Red Neuronal"
      ]
    },
    {
      "cell_type": "code",
      "metadata": {
        "id": "XpD6SrVkFak6",
        "colab": {
          "base_uri": "https://localhost:8080/"
        },
        "outputId": "1b0c5fc9-0d3a-43cd-c91a-d387c234bb05"
      },
      "source": [
        "!pip install git+https://github.com/tensorflow/docs"
      ],
      "execution_count": 13,
      "outputs": [
        {
          "output_type": "stream",
          "name": "stdout",
          "text": [
            "Collecting git+https://github.com/tensorflow/docs\n",
            "  Cloning https://github.com/tensorflow/docs to /tmp/pip-req-build-t50g68rq\n",
            "  Running command git clone -q https://github.com/tensorflow/docs /tmp/pip-req-build-t50g68rq\n",
            "Requirement already satisfied: astor in /usr/local/lib/python3.7/dist-packages (from tensorflow-docs==0.0.0.dev0) (0.8.1)\n",
            "Requirement already satisfied: absl-py in /usr/local/lib/python3.7/dist-packages (from tensorflow-docs==0.0.0.dev0) (0.12.0)\n",
            "Requirement already satisfied: protobuf>=3.14 in /usr/local/lib/python3.7/dist-packages (from tensorflow-docs==0.0.0.dev0) (3.17.3)\n",
            "Requirement already satisfied: pyyaml in /usr/local/lib/python3.7/dist-packages (from tensorflow-docs==0.0.0.dev0) (3.13)\n",
            "Requirement already satisfied: six>=1.9 in /usr/local/lib/python3.7/dist-packages (from protobuf>=3.14->tensorflow-docs==0.0.0.dev0) (1.15.0)\n",
            "Building wheels for collected packages: tensorflow-docs\n",
            "  Building wheel for tensorflow-docs (setup.py) ... \u001b[?25l\u001b[?25hdone\n",
            "  Created wheel for tensorflow-docs: filename=tensorflow_docs-0.0.0.dev0-py3-none-any.whl size=157743 sha256=db74e920ff0a4a6136b28b2e70fa9c3bd9dc7d26374a34114e74118b519dcdd4\n",
            "  Stored in directory: /tmp/pip-ephem-wheel-cache-_s4933n6/wheels/cc/c4/d8/5341e93b6376c5c929c49469fce21155eb69cef1a4da4ce32c\n",
            "Successfully built tensorflow-docs\n",
            "Installing collected packages: tensorflow-docs\n",
            "Successfully installed tensorflow-docs-0.0.0.dev0\n"
          ]
        }
      ]
    },
    {
      "cell_type": "code",
      "metadata": {
        "id": "k5myYGPFFlSQ"
      },
      "source": [
        "import tensorflow_docs as tfdocs\n",
        "import tensorflow_docs.modeling"
      ],
      "execution_count": 14,
      "outputs": []
    },
    {
      "cell_type": "code",
      "metadata": {
        "id": "lhrF8Mb6Fn5O"
      },
      "source": [
        "EPOCHS = 1000"
      ],
      "execution_count": 15,
      "outputs": []
    },
    {
      "cell_type": "code",
      "metadata": {
        "id": "CeWhINlCFo5q",
        "colab": {
          "base_uri": "https://localhost:8080/"
        },
        "outputId": "fc0a9321-4966-4614-9d18-091ba8f263c7"
      },
      "source": [
        "history = model.fit(\n",
        "    X,Y,\n",
        "    epochs=EPOCHS, verbose=0,\n",
        "    callbacks=[tfdocs.modeling.EpochDots()])"
      ],
      "execution_count": 16,
      "outputs": [
        {
          "output_type": "stream",
          "name": "stdout",
          "text": [
            "\n",
            "Epoch: 0, loss:130600912.0000,  mae:10535.1211,  mse:130600912.0000,  \n",
            "....................................................................................................\n",
            "Epoch: 100, loss:169.4391,  mae:10.8673,  mse:169.4391,  \n",
            "....................................................................................................\n",
            "Epoch: 200, loss:148.1082,  mae:8.4367,  mse:148.1082,  \n",
            "....................................................................................................\n",
            "Epoch: 300, loss:184.4962,  mae:11.3455,  mse:184.4962,  \n",
            "....................................................................................................\n",
            "Epoch: 400, loss:159.3746,  mae:9.1270,  mse:159.3746,  \n",
            "....................................................................................................\n",
            "Epoch: 500, loss:198.3997,  mae:10.8399,  mse:198.3997,  \n",
            "....................................................................................................\n",
            "Epoch: 600, loss:167.3331,  mae:11.1278,  mse:167.3331,  \n",
            "....................................................................................................\n",
            "Epoch: 700, loss:166.7956,  mae:8.5684,  mse:166.7956,  \n",
            "....................................................................................................\n",
            "Epoch: 800, loss:187.5023,  mae:11.5800,  mse:187.5023,  \n",
            "....................................................................................................\n",
            "Epoch: 900, loss:164.2591,  mae:11.1016,  mse:164.2591,  \n",
            "...................................................................................................."
          ]
        }
      ]
    },
    {
      "cell_type": "markdown",
      "metadata": {
        "id": "_Wn4SNscPVzt"
      },
      "source": [
        "# Prueba de la I.A. creada, que tenía como objeto enseñar a sumar a nuestra I.A."
      ]
    },
    {
      "cell_type": "code",
      "metadata": {
        "id": "BVChxynFFyLu",
        "colab": {
          "base_uri": "https://localhost:8080/"
        },
        "outputId": "11557330-bc4a-4a40-c900-392017eaebc6"
      },
      "source": [
        "print(\"Aprendiendo a sumar\")\n",
        "\n",
        "a=float(input(\"Ingrese primer valor: \"))\n",
        "b=float(input(\"Ingrese segundo valor: \"))\n",
        "\n",
        "y=model.predict(np.array([[a,b]]))\n",
        "\n",
        "#suma=a+b\n",
        "#error_absoluto=abs(suma-y)\n",
        "\n",
        "print(\" \")\n",
        "print(\"El resultado es: %s apróximadamente \" % y[0] [0])\n",
        "\n",
        "\n",
        "#print(\" \")\n",
        "#print(\"El error absoluto es de %s:\" % error_absoluto[0][0])\n"
      ],
      "execution_count": 17,
      "outputs": [
        {
          "output_type": "stream",
          "name": "stdout",
          "text": [
            "Aprendiendo a sumar\n",
            "Ingrese primer valor: 4\n",
            "Ingrese segundo valor: 1\n",
            " \n",
            "El resultado es: 5.2202115 apróximadamente \n"
          ]
        }
      ]
    }
  ]
}